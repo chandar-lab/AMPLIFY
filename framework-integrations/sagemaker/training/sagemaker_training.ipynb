{
 "cells": [
  {
   "cell_type": "markdown",
   "id": "869c6fd5-5045-4eb9-9df5-d420c46aaa70",
   "metadata": {},
   "source": [
    "# Training AMPLIFY model on Amazon Sagemaker"
   ]
  },
  {
   "cell_type": "markdown",
   "id": "678c97b8-3b33-490e-bc3c-1f4bb6e048e2",
   "metadata": {},
   "source": [
    "### Important: Setting the Jupyter Working Directory\n",
    "\n",
    "This notebook assumes that your working directory is set to the following path: `<repo-root>/framework-integrations/sagemaker/training`\n",
    "\n",
    "#### How to Check and Set the Working Directory\n",
    "Before running the notebook, you can verify that your working directory is correct by running the following command:"
   ]
  },
  {
   "cell_type": "code",
   "execution_count": null,
   "id": "0904c125-676e-4c3c-8fe7-e2b3c8b40439",
   "metadata": {
    "tags": []
   },
   "outputs": [],
   "source": [
    "import os\n",
    "print(os.getcwd())"
   ]
  },
  {
   "cell_type": "markdown",
   "id": "460de9ab-3874-49ad-aa06-4598a4d2719e",
   "metadata": {},
   "source": [
    "If the output is not `<repo-root>/framework-integrations/sagemaker/training`, you can set the working directory manually by running:"
   ]
  },
  {
   "cell_type": "code",
   "execution_count": null,
   "id": "e44da79d-8390-4074-953a-1feae7c0a306",
   "metadata": {},
   "outputs": [],
   "source": [
    "os.chdir('/path/to/your/repository/framework-integrations/sagemaker/training')"
   ]
  },
  {
   "cell_type": "markdown",
   "id": "7971c364-1d78-4895-8b88-7cfb67e12f14",
   "metadata": {},
   "source": [
    "### Install/Update the environment"
   ]
  },
  {
   "cell_type": "code",
   "execution_count": null,
   "id": "3a623051-addb-42cc-aed8-acd174d40373",
   "metadata": {
    "tags": []
   },
   "outputs": [],
   "source": [
    "!pip install --upgrade awscli botocore sagemaker -q"
   ]
  },
  {
   "cell_type": "markdown",
   "id": "93bafebb-b636-487e-bd12-606aff5bc93b",
   "metadata": {},
   "source": [
    "### Import the libraries"
   ]
  },
  {
   "cell_type": "code",
   "execution_count": null,
   "id": "5b86ee18-709e-489c-bd6e-48d8d01f517c",
   "metadata": {
    "tags": []
   },
   "outputs": [],
   "source": [
    "import time\n",
    "import boto3\n",
    "import sagemaker\n",
    "from sagemaker import get_execution_role, Session, image_uris\n",
    "from sagemaker.pytorch import PyTorch\n",
    "from sagemaker.huggingface import HuggingFace"
   ]
  },
  {
   "cell_type": "code",
   "execution_count": null,
   "id": "cacf0f84-f41f-4647-bb8c-1cc77410e68a",
   "metadata": {
    "tags": []
   },
   "outputs": [],
   "source": [
    "\n",
    "sagemaker_session = Session()\n",
    "region = boto3.Session().region_name\n",
    "execution_role = get_execution_role()\n"
   ]
  },
  {
   "cell_type": "markdown",
   "id": "45eae2e1-bc77-4681-ae28-d34465aec87f",
   "metadata": {},
   "source": [
    "### Define Data Location"
   ]
  },
  {
   "cell_type": "code",
   "execution_count": null,
   "id": "36344ea2-d87b-4e05-a953-7409627ca607",
   "metadata": {
    "tags": []
   },
   "outputs": [],
   "source": [
    "# Adjust this to your local folder path\n",
    "s3_data_location = \"s3://amplify-models-aws/data/uniref50/uniref50_sample_100.csv\"\n"
   ]
  },
  {
   "cell_type": "markdown",
   "id": "6e8a5d10-8dbd-42c2-9196-4051849280b2",
   "metadata": {},
   "source": [
    "### Define the instance type "
   ]
  },
  {
   "cell_type": "code",
   "execution_count": null,
   "id": "18f6c42c-3130-4cc9-b273-bd7695bb1f31",
   "metadata": {
    "tags": []
   },
   "outputs": [],
   "source": [
    "instance_type = \"ml.g5.12xlarge\""
   ]
  },
  {
   "cell_type": "markdown",
   "id": "cbb80cb9-ed17-4c42-8d29-3eb3e0630d08",
   "metadata": {},
   "source": [
    "### Define the container"
   ]
  },
  {
   "cell_type": "code",
   "execution_count": null,
   "id": "b8e59deb-4749-4b28-b7b0-0f976051c7a4",
   "metadata": {
    "tags": []
   },
   "outputs": [],
   "source": [
    "image_uri = \"763104351884.dkr.ecr.us-west-2.amazonaws.com/huggingface-pytorch-training:2.1.0-transformers4.36.0-gpu-py310-cu121-ubuntu20.04\"\n"
   ]
  },
  {
   "cell_type": "markdown",
   "id": "4b66f406-1d44-4520-a5c7-d4ebda269501",
   "metadata": {},
   "source": [
    "### Define the estimator"
   ]
  },
  {
   "cell_type": "code",
   "execution_count": null,
   "id": "b77e0916-a3fb-4301-bf6c-649872670866",
   "metadata": {
    "tags": []
   },
   "outputs": [],
   "source": [
    "estimator = HuggingFace(\n",
    "    py_version=\"3.10\",\n",
    "    entry_point='train.py', \n",
    "    source_dir='code',        \n",
    "    role=execution_role,\n",
    "    image_uri = image_uri,\n",
    "    instance_count=1,\n",
    "    instance_type=instance_type, \n",
    "    keep_alive_period_in_seconds=1800,\n",
    ")"
   ]
  },
  {
   "cell_type": "markdown",
   "id": "359235db-21de-4b41-b9ef-7ed28cf0fecc",
   "metadata": {},
   "source": [
    "### Start Training"
   ]
  },
  {
   "cell_type": "code",
   "execution_count": null,
   "id": "a1aa1061-d257-47ad-b517-876ca810cd81",
   "metadata": {
    "tags": []
   },
   "outputs": [],
   "source": [
    "training_job_name = f\"AMPLIFY-hf-training-job-{int(time.time())}\"\n",
    "\n",
    "\n",
    "estimator.fit({\n",
    "    'train': s3_data_location\n",
    "}, job_name=training_job_name)"
   ]
  },
  {
   "cell_type": "markdown",
   "id": "e6f7ea0b-92f2-4705-8d68-87d4cdc6ebaa",
   "metadata": {},
   "source": [
    "### Get the data model data "
   ]
  },
  {
   "cell_type": "code",
   "execution_count": null,
   "id": "971fc666-9bc3-4797-9513-a7105858fbb2",
   "metadata": {
    "tags": []
   },
   "outputs": [],
   "source": [
    "estimator = HuggingFace.attach(training_job_name)"
   ]
  },
  {
   "cell_type": "code",
   "execution_count": null,
   "id": "a9947106-bb42-4b6c-b328-462269e24d95",
   "metadata": {},
   "outputs": [],
   "source": [
    "estimator.model_data"
   ]
  }
 ],
 "metadata": {
  "kernelspec": {
   "display_name": "conda_pytorch_p310",
   "language": "python",
   "name": "conda_pytorch_p310"
  },
  "language_info": {
   "codemirror_mode": {
    "name": "ipython",
    "version": 3
   },
   "file_extension": ".py",
   "mimetype": "text/x-python",
   "name": "python",
   "nbconvert_exporter": "python",
   "pygments_lexer": "ipython3",
   "version": "3.10.14"
  }
 },
 "nbformat": 4,
 "nbformat_minor": 5
}
