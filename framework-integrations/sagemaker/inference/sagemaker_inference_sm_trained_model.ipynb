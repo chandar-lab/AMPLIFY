{
 "cells": [
  {
   "cell_type": "markdown",
   "id": "b5d027c0-8e1d-4b57-85be-c39f2bb921a1",
   "metadata": {
    "tags": []
   },
   "source": [
    "# Deploy SageMaker trained AMPLIFY model on Sagemaker Inference"
   ]
  },
  {
   "cell_type": "markdown",
   "id": "72d449f6-064a-41f6-957f-9eabe311f984",
   "metadata": {
    "tags": []
   },
   "source": [
    "### Important: Setting the Jupyter Working Directory\n",
    "\n",
    "This notebook assumes that your working directory is set to the following path: `<repo-root>/framework-integrations/sagemaker/training`\n",
    "\n",
    "#### How to Check and Set the Working Directory\n",
    "Before running the notebook, you can verify that your working directory is correct by running the following command:"
   ]
  },
  {
   "cell_type": "code",
   "execution_count": 2,
   "id": "8bd5fce2-1825-4a9c-b0d7-fd24d4dbb803",
   "metadata": {
    "tags": []
   },
   "outputs": [
    {
     "name": "stdout",
     "output_type": "stream",
     "text": [
      "/home/ec2-user/SageMaker/AMPLIFY-AWS/framework-integrations/sagemaker/inference\n"
     ]
    }
   ],
   "source": [
    "import os\n",
    "print(os.getcwd())"
   ]
  },
  {
   "cell_type": "markdown",
   "id": "b5a37f6d-560c-4f5c-9c54-945fb38f491d",
   "metadata": {},
   "source": [
    "If the output is not `<repo-root>/framework-integrations/sagemaker/inference`, you can set the working directory manually by running:"
   ]
  },
  {
   "cell_type": "code",
   "execution_count": null,
   "id": "9b37d6aa-15a5-4441-a49b-82793aed753b",
   "metadata": {},
   "outputs": [],
   "source": [
    "os.chdir('/path/to/your/repository/framework-integrations/sagemaker/inference')"
   ]
  },
  {
   "cell_type": "markdown",
   "id": "ce92cb80",
   "metadata": {},
   "source": [
    "### Setup Environment\n",
    "\n",
    "First, ensure that the necessary packages are installed:"
   ]
  },
  {
   "cell_type": "code",
   "execution_count": null,
   "id": "7caeba79-ad6e-4241-8c51-ec2b8ae54e41",
   "metadata": {
    "tags": []
   },
   "outputs": [],
   "source": [
    "!pip install boto3 sagemaker -U -q"
   ]
  },
  {
   "cell_type": "markdown",
   "id": "18b6555b",
   "metadata": {},
   "source": [
    "### Initialize your SageMaker session and IAM role\n",
    "\n",
    "Before deploying the model, you need to set up the SageMaker session and specify your IAM role"
   ]
  },
  {
   "cell_type": "code",
   "execution_count": 12,
   "id": "8bd8623e-8c6f-48c1-97b8-ac12ee07f473",
   "metadata": {
    "tags": []
   },
   "outputs": [],
   "source": [
    "from sagemaker import get_execution_role, Session, image_uris\n",
    "import boto3\n",
    "#from sagemaker.huggingface import HuggingFaceModel\n",
    "from sagemaker.pytorch import PyTorchModel\n",
    "\n",
    "sagemaker_session = Session()\n",
    "region = boto3.Session().region_name\n",
    "execution_role = get_execution_role()\n",
    "region = boto3.Session().region_name"
   ]
  },
  {
   "cell_type": "markdown",
   "id": "35c9a88d-2cbc-4a5e-b650-919ea5edfc68",
   "metadata": {},
   "source": [
    "### Specify the model ID and the instance details"
   ]
  },
  {
   "cell_type": "code",
   "execution_count": 20,
   "id": "49ba5f69-bd9d-4aa9-8470-789987b18543",
   "metadata": {
    "tags": []
   },
   "outputs": [],
   "source": [
    "instance_type = 'ml.g5.4xlarge'"
   ]
  },
  {
   "cell_type": "markdown",
   "id": "55f3651d-30a7-4c1d-aec4-9dd428c306ce",
   "metadata": {},
   "source": [
    "### Specify the container image for the inference"
   ]
  },
  {
   "cell_type": "code",
   "execution_count": 21,
   "id": "a4925993-1012-4fb4-be7a-18502010478f",
   "metadata": {
    "tags": []
   },
   "outputs": [
    {
     "data": {
      "text/plain": [
       "'763104351884.dkr.ecr.us-west-2.amazonaws.com/pytorch-inference:2.3-gpu-py311'"
      ]
     },
     "execution_count": 21,
     "metadata": {},
     "output_type": "execute_result"
    }
   ],
   "source": [
    "image = image_uris.retrieve(region=region, framework='pytorch', image_scope='inference', version='2.3', base_framework_version='pytorch2.0.0', instance_type=instance_type)\n",
    "image"
   ]
  },
  {
   "cell_type": "markdown",
   "id": "bffcc763-c1c2-45e8-b7d2-0077a1a2d551",
   "metadata": {},
   "source": [
    "### Specify the trained model data location"
   ]
  },
  {
   "cell_type": "code",
   "execution_count": 43,
   "id": "04e9bcad-dc62-4104-9752-751bd0846137",
   "metadata": {},
   "outputs": [],
   "source": [
    "#s3_model_data = \"s3://sagemaker-us-west-2-111918798052/dummy-model.tar.gz\"  ## Change this accordingly\n",
    "s3_model_data = \"s3://sagemaker-us-west-2-111918798052/AMPLIFY-hf-training-job-1729483946/output/model.tar.gz\"  ## Change this accordingly"
   ]
  },
  {
   "cell_type": "markdown",
   "id": "366f9e99-6a4e-445d-9252-f79753270d78",
   "metadata": {},
   "source": [
    "### Deploy the Model with the Custom Inference Script"
   ]
  },
  {
   "cell_type": "code",
   "execution_count": 44,
   "id": "4500ef14-2d45-4a94-9d38-2c99691b5954",
   "metadata": {
    "tags": []
   },
   "outputs": [],
   "source": [
    "sm_model = PyTorchModel(\n",
    "    model_data=s3_model_data,\n",
    "    role=execution_role,\n",
    "    image_uri=image,\n",
    "    source_dir=\"code/sm-trained/\",\n",
    "    entry_point=\"inference_sm_trained.py\",\n",
    ")"
   ]
  },
  {
   "cell_type": "code",
   "execution_count": 45,
   "id": "914849bd-f428-4622-aab6-f8812595a62d",
   "metadata": {
    "tags": []
   },
   "outputs": [
    {
     "name": "stdout",
     "output_type": "stream",
     "text": [
      "--------------!"
     ]
    }
   ],
   "source": [
    "endpoint_name = f\"AMPLIFY-sm-trained-endpoint\"\n",
    "\n",
    "predictor = sm_model.deploy(\n",
    "    initial_instance_count=1,\n",
    "    instance_type=instance_type,\n",
    "    endpoint_name=endpoint_name\n",
    ")"
   ]
  },
  {
   "cell_type": "markdown",
   "id": "048119cd",
   "metadata": {},
   "source": [
    "### Make a single prediction "
   ]
  },
  {
   "cell_type": "code",
   "execution_count": null,
   "id": "08583c0c-c82b-4c19-8461-804248b19e46",
   "metadata": {
    "tags": []
   },
   "outputs": [],
   "source": [
    "from sagemaker.serializers import JSONSerializer\n",
    "from sagemaker.deserializers import JSONDeserializer\n",
    "\n",
    "predictor.serializer = JSONSerializer()  \n",
    "predictor.deserializer = JSONDeserializer()  \n",
    "\n",
    "sequence = \"MSVVGIDLGFQSCYVAVARAGGIETIANEYSDRCTPACISFGPKNR\"\n",
    "\n",
    "result = predictor.predict({\"sequence\": sequence})\n",
    "\n",
    "print(f\"Logits: {result}\")"
   ]
  },
  {
   "cell_type": "markdown",
   "id": "d665d66b",
   "metadata": {},
   "source": [
    "### Delete Endpoint"
   ]
  },
  {
   "cell_type": "code",
   "execution_count": 47,
   "id": "1ff89951-7c29-46d3-84ec-2117425f102c",
   "metadata": {
    "tags": []
   },
   "outputs": [],
   "source": [
    "predictor.delete_endpoint()"
   ]
  },
  {
   "cell_type": "code",
   "execution_count": null,
   "id": "b046ffeb-afa2-4171-86c6-7ab08c19fa92",
   "metadata": {},
   "outputs": [],
   "source": []
  }
 ],
 "metadata": {
  "kernelspec": {
   "display_name": "conda_pytorch_p310",
   "language": "python",
   "name": "conda_pytorch_p310"
  },
  "language_info": {
   "codemirror_mode": {
    "name": "ipython",
    "version": 3
   },
   "file_extension": ".py",
   "mimetype": "text/x-python",
   "name": "python",
   "nbconvert_exporter": "python",
   "pygments_lexer": "ipython3",
   "version": "3.10.14"
  }
 },
 "nbformat": 4,
 "nbformat_minor": 5
}
