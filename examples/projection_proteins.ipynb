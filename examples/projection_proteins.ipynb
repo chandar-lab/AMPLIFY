{
 "cells": [
  {
   "cell_type": "markdown",
   "metadata": {},
   "source": [
    "# 2D Projection of Protein Embeddings"
   ]
  },
  {
   "cell_type": "markdown",
   "metadata": {},
   "source": [
    "## Dependencies"
   ]
  },
  {
   "cell_type": "code",
   "execution_count": 1,
   "metadata": {},
   "outputs": [],
   "source": [
    "# ! pip install amplify umap-learn"
   ]
  },
  {
   "cell_type": "code",
   "execution_count": null,
   "metadata": {},
   "outputs": [],
   "source": [
    "import torch\n",
    "import numpy as np\n",
    "from umap import UMAP\n",
    "from functools import partial\n",
    "from torch.utils.data import DataLoader\n",
    "import matplotlib.pyplot as plt\n",
    "\n",
    "from utils import load_csv_dataset, load_from_hf, load_from_mila"
   ]
  },
  {
   "cell_type": "code",
   "execution_count": 3,
   "metadata": {},
   "outputs": [],
   "source": [
    "# Model\n",
    "source = \"mila\"\n",
    "model_name = \"AMPLIFY350M\"\n",
    "model_path = \"../outputs/MILA_PLM_350M_UR100P/checkpoint/pytorch_model.pt\"\n",
    "tokenizer_path = None \n",
    "config_path = \"../outputs/MILA_PLM_350M_UR100P/checkpoint/config.yaml\"\n",
    "batch_size = 8\n",
    "device = \"cuda\"\n",
    "compile = False\n",
    "fp16 = True\n",
    "\n",
    "# Dataset\n",
    "data_name = \"UniProt\"\n",
    "data_path = \"../uniref/mila/uniprot_dev.csv\"\n",
    "n_proteins = 1000\n",
    "\n",
    "# UMAP\n",
    "n_last_layers = 1\n",
    "n_neighbors = 100\n",
    "min_dist = 0.1\n",
    "n_epochs = 1000\n",
    "\n",
    "# Log\n",
    "output_file = \"../outputs/AMPLIFY_UniProt_UMAP.csv\""
   ]
  },
  {
   "cell_type": "code",
   "execution_count": 4,
   "metadata": {},
   "outputs": [],
   "source": [
    "# Get model and tokenizer\n",
    "if source == \"hf\":\n",
    "    model, tokenizer = load_from_hf(model_path, tokenizer_path, fp16=fp16)\n",
    "elif source == \"mila\":\n",
    "    model, tokenizer = load_from_mila(model_path, config_path)\n",
    "else:\n",
    "    raise Exception(\"Only 'hf' and 'mila' sources are supported, not {source}.\")\n",
    "model.to(device)\n",
    "torch.compile(model, disable=~compile)"
   ]
  },
  {
   "cell_type": "code",
   "execution_count": 5,
   "metadata": {},
   "outputs": [],
   "source": [
    "# Prepare the dataset\n",
    "dataset = load_csv_dataset(data_path, n_proteins)\n",
    "\n",
    "def tokenize(dataset, tokenizer):\n",
    "    tokenized_dataset = []\n",
    "    for label, protein in dataset:\n",
    "        tokenized_protein = torch.as_tensor(tokenizer.encode(protein, max_length=1024, truncation=True))\n",
    "        tokenized_dataset.append([label, tokenized_protein.to(torch.long)])\n",
    "    return tokenized_dataset\n",
    "\n",
    "def collate(batch, pad_token_id):\n",
    "    name, inputs = zip(*batch)\n",
    "    max_length = ((max(x.size(0) for x in inputs) // 8) + 1) * 8\n",
    "    pad_x = torch.full((len(inputs), max_length), fill_value=pad_token_id)\n",
    "    for i, x in enumerate(inputs):\n",
    "        pad_x[i, : x.size(0)] = x\n",
    "    pad_mask = pad_x == pad_token_id\n",
    "    return name, pad_x, pad_mask\n",
    "\n",
    "dataloader = DataLoader(\n",
    "    tokenize(dataset, tokenizer),\n",
    "    batch_size=batch_size,\n",
    "    collate_fn=partial(collate, pad_token_id=tokenizer.pad_token_id),\n",
    "    pin_memory=True,\n",
    "    num_workers=4,\n",
    ")"
   ]
  },
  {
   "cell_type": "code",
   "execution_count": 6,
   "metadata": {},
   "outputs": [],
   "source": [
    "# Get the protein embeddings\n",
    "with torch.no_grad(), torch.autocast(device_type=device, dtype=torch.float16, enabled=fp16):\n",
    "    torch.backends.cuda.matmul.allow_tf32 = True\n",
    "    torch.backends.cudnn.allow_tf32 = True\n",
    "\n",
    "    labels, embeddings = [], []\n",
    "    for name, x, pad_mask in dataloader:\n",
    "        x, pad_mask = x.to(device), pad_mask.to(device)      \n",
    "        if source == \"hf\":\n",
    "            hf_pad_mask = torch.where(pad_mask, float(0.0), float(1)).half()\n",
    "            hidden_representation = model(x, hf_pad_mask, output_hidden_states=True).hidden_states[-n_last_layers:]\n",
    "        elif source == \"mila\":\n",
    "            mila_pad_mask = torch.where(pad_mask, float(\"-inf\"), float(0.0)).half()\n",
    "            hidden_representation = model(x, mila_pad_mask, output_hidden_states=True).hidden_states[-n_last_layers:]\n",
    "        hidden_representation = torch.stack(hidden_representation).sum(0)\n",
    "        hidden_representation = torch.masked_fill(hidden_representation, pad_mask.unsqueeze(-1), 0)\n",
    "        labels.extend(name)\n",
    "        embeddings.extend(hidden_representation.sum(1).cpu().tolist())\n",
    "    embeddings = np.asarray(embeddings)"
   ]
  },
  {
   "cell_type": "code",
   "execution_count": 7,
   "metadata": {},
   "outputs": [
    {
     "data": {
      "image/png": "[encoded data removed]",
      "text/plain": [
       "<Figure size 640x480 with 1 Axes>"
      ]
     },
     "metadata": {},
     "output_type": "display_data"
    }
   ],
   "source": [
    "# 2D projection with UMAP\n",
    "reducer = UMAP(n_neighbors=n_neighbors, min_dist=min_dist, n_epochs=n_epochs, low_memory=False)\n",
    "projection = reducer.fit_transform(embeddings)\n",
    "\n",
    "# Save the projection into a csv\n",
    "with open(output_file, \"w\") as file:\n",
    "    file.write(\"protein,x,y\\n\")\n",
    "    for label, (x, y) in zip(labels, projection):\n",
    "        file.write(f\"{label},{x},{y}\\n\")\n",
    "\n",
    "# Plot the projection\n",
    "plt.scatter(projection.T[0], projection.T[1], s=1)\n",
    "plt.axis(\"off\")\n",
    "plt.show()"
   ]
  }
 ],
 "metadata": {
  "kernelspec": {
   "display_name": ".venv",
   "language": "python",
   "name": "python3"
  },
  "language_info": {
   "codemirror_mode": {
    "name": "ipython",
    "version": 3
   },
   "file_extension": ".py",
   "mimetype": "text/x-python",
   "name": "python",
   "nbconvert_exporter": "python",
   "pygments_lexer": "ipython3",
   "version": "3.10.11"
  }
 },
 "nbformat": 4,
 "nbformat_minor": 2
}
