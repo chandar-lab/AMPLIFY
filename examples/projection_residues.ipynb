{
 "cells": [
  {
   "cell_type": "markdown",
   "metadata": {},
   "source": [
    "# 2D Projection of Amino Acid Embeddings"
   ]
  },
  {
   "cell_type": "markdown",
   "metadata": {},
   "source": [
    "## Dependencies"
   ]
  },
  {
   "cell_type": "code",
   "execution_count": 1,
   "metadata": {},
   "outputs": [],
   "source": [
    "# ! pip install amplify umap-learn"
   ]
  },
  {
   "cell_type": "code",
   "execution_count": null,
   "metadata": {},
   "outputs": [],
   "source": [
    "\n",
    "from umap import UMAP\n",
    "import matplotlib.pyplot as plt\n",
    "\n",
    "from utils import load_from_hf, load_from_mila"
   ]
  },
  {
   "cell_type": "code",
   "execution_count": 3,
   "metadata": {},
   "outputs": [],
   "source": [
    "# Model\n",
    "source = \"mila\"\n",
    "model_name = \"AMPLIFY350M\"\n",
    "model_path = \"../outputs/MILA_PLM_350M_UR100P/checkpoint/pytorch_model.pt\"\n",
    "tokenizer_path = None \n",
    "config_path = \"../outputs/MILA_PLM_350M_UR100P/checkpoint/config.yaml\"\n",
    "\n",
    "# UMAP\n",
    "n_neighbors = 20\n",
    "min_dist = 0.01\n",
    "n_epochs = 1000\n",
    "\n",
    "# Log\n",
    "output_file = \"../outputs/AMPLIFY_residues_UMAP.csv\""
   ]
  },
  {
   "cell_type": "markdown",
   "metadata": {},
   "source": [
    "## Projection"
   ]
  },
  {
   "cell_type": "code",
   "execution_count": 4,
   "metadata": {},
   "outputs": [],
   "source": [
    "# Get embedding matrix and tokenizer\n",
    "if source == \"hf\":\n",
    "    model, tokenizer = load_from_hf(model_path, tokenizer_path)\n",
    "    emb_matrix = model.get_input_embeddings().weight.detach().numpy()\n",
    "elif source == \"mila\":\n",
    "    model, tokenizer = load_from_mila(model_path, config_path)\n",
    "    emb_matrix = model.encoder.weight.detach().numpy()\n",
    "else:\n",
    "    raise Exception(\"Only 'hf' and 'mila' sources are supported, not {source}.\")"
   ]
  },
  {
   "cell_type": "code",
   "execution_count": 5,
   "metadata": {},
   "outputs": [
    {
     "data": {
      "image/png": "[encoded data removed]",
      "text/plain": [
       "<Figure size 640x480 with 1 Axes>"
      ]
     },
     "metadata": {},
     "output_type": "display_data"
    }
   ],
   "source": [
    "# 2D projection with UMAP\n",
    "reducer = UMAP(n_neighbors=n_neighbors, min_dist=min_dist, n_epochs=n_epochs, low_memory=False)\n",
    "projection = reducer.fit_transform(emb_matrix)\n",
    "\n",
    "# Save the projection into a csv\n",
    "with open(output_file, \"w\") as file:\n",
    "    file.write(\"residue,x,y\\n\")\n",
    "    for i, (x, y) in enumerate(projection):\n",
    "        if source == \"hf\":\n",
    "            file.write(f\"{tokenizer.convert_ids_to_tokens(i)},{x},{y}\\n\")\n",
    "        elif source == \"mila\":\n",
    "            file.write(f\"{tokenizer.id_to_token(i)},{x},{y}\\n\")\n",
    "\n",
    "# Plot the projection\n",
    "plt.scatter(projection.T[0], projection.T[1], s=1)\n",
    "for i , (x, y) in enumerate(projection):\n",
    "    if source == \"hf\":\n",
    "        txt = tokenizer.convert_ids_to_tokens(i)\n",
    "    elif source == \"mila\":\n",
    "        txt = tokenizer.id_to_token(i)\n",
    "    plt.annotate(txt, (x, y))\n",
    "plt.axis(\"off\")\n",
    "plt.show()"
   ]
  }
 ],
 "metadata": {
  "kernelspec": {
   "display_name": ".venv",
   "language": "python",
   "name": "python3"
  },
  "language_info": {
   "codemirror_mode": {
    "name": "ipython",
    "version": 3
   },
   "file_extension": ".py",
   "mimetype": "text/x-python",
   "name": "python",
   "nbconvert_exporter": "python",
   "pygments_lexer": "ipython3",
   "version": "3.10.11"
  }
 },
 "nbformat": 4,
 "nbformat_minor": 2
}
