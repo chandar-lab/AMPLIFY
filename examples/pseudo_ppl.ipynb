{
 "cells": [
  {
   "cell_type": "markdown",
   "metadata": {},
   "source": [
    "# Pseudo Perplexity"
   ]
  },
  {
   "cell_type": "markdown",
   "metadata": {},
   "source": [
    "## Dependencies"
   ]
  },
  {
   "cell_type": "code",
   "execution_count": 1,
   "metadata": {},
   "outputs": [],
   "source": [
    "# ! pip install amplify seaborn"
   ]
  },
  {
   "cell_type": "code",
   "execution_count": 2,
   "metadata": {},
   "outputs": [
    {
     "name": "stdout",
     "output_type": "stream",
     "text": [
      "[2024-06-05 17:30:22,874] [INFO] [real_accelerator.py:191:get_accelerator] Setting ds_accelerator to cuda (auto detect)\n"
     ]
    }
   ],
   "source": [
    "\n",
    "import torch\n",
    "import numpy as np\n",
    "import seaborn as sns\n",
    "import matplotlib.pyplot as plt\n",
    "\n",
    "from utils import load_csv_dataset, load_from_hf, load_from_mila"
   ]
  },
  {
   "cell_type": "code",
   "execution_count": 3,
   "metadata": {},
   "outputs": [],
   "source": [
    "# Model\n",
    "source = \"mila\"\n",
    "model_name = \"AMPLIFY350M\"\n",
    "model_path = \"../outputs/MILA_PLM_350M_UR100P/checkpoint/pytorch_model.pt\"\n",
    "tokenizer_path = None \n",
    "config_path = \"../outputs/MILA_PLM_350M_UR100P/checkpoint/config.yaml\"\n",
    "batch_size = 512\n",
    "device = \"cuda\"\n",
    "compile = False\n",
    "fp16 = True\n",
    "\n",
    "# Dataset\n",
    "data_name = \"UniProt\"\n",
    "data_path = \"../uniref/mila/uniprot_dev.csv\"\n",
    "n_proteins = 100\n",
    "\n",
    "# Log\n",
    "output_file = \"../outputs/AMPLIFY_UniProt_PPL.csv\""
   ]
  },
  {
   "cell_type": "code",
   "execution_count": 4,
   "metadata": {},
   "outputs": [
    {
     "data": {
      "text/plain": [
       "OptimizedModule(\n",
       "  (_orig_mod): AMPLIFY(\n",
       "    (encoder): Embedding(27, 960, padding_idx=0)\n",
       "    (transformer_encoder): ModuleList(\n",
       "      (0-31): 32 x EncoderBlock(\n",
       "        (q): Linear(in_features=960, out_features=960, bias=False)\n",
       "        (k): Linear(in_features=960, out_features=960, bias=False)\n",
       "        (v): Linear(in_features=960, out_features=960, bias=False)\n",
       "        (wo): Linear(in_features=960, out_features=960, bias=False)\n",
       "        (resid_dropout): Dropout(p=0, inplace=False)\n",
       "        (ffn): SwiGLU(\n",
       "          (w12): Linear(in_features=960, out_features=5120, bias=False)\n",
       "          (w3): Linear(in_features=2560, out_features=960, bias=False)\n",
       "        )\n",
       "        (attention_norm): RMSNorm()\n",
       "        (ffn_norm): RMSNorm()\n",
       "        (ffn_dropout): Dropout(p=0, inplace=False)\n",
       "      )\n",
       "    )\n",
       "    (layer_norm_2): RMSNorm()\n",
       "    (decoder): Linear(in_features=960, out_features=27, bias=True)\n",
       "  )\n",
       ")"
      ]
     },
     "execution_count": 4,
     "metadata": {},
     "output_type": "execute_result"
    }
   ],
   "source": [
    "# Get model and tokenizer\n",
    "if source == \"hf\":\n",
    "    model, tokenizer = load_from_hf(model_path, tokenizer_path, fp16=fp16)\n",
    "elif source == \"mila\":\n",
    "    model, tokenizer = load_from_mila(model_path, config_path)\n",
    "else:\n",
    "    raise Exception(\"Only 'hf' and 'mila' sources are supported, not {source}.\")\n",
    "model.to(device)\n",
    "torch.compile(model, disable=~compile)"
   ]
  },
  {
   "cell_type": "code",
   "execution_count": 5,
   "metadata": {},
   "outputs": [],
   "source": [
    "# Prepare the dataset\n",
    "dataset = load_csv_dataset(data_path, n_proteins)\n",
    "\n",
    "# Generator that, for each protein, tokenize, mask each residue, and batch\n",
    "def batch_tokenize_mask(dataset, tokenizer, batch_size):\n",
    "    for label, protein in dataset:\n",
    "        x = torch.as_tensor(tokenizer.encode(protein, max_length=512, truncation=True))\n",
    "        x = x.repeat(x.size(0), 1)\n",
    "        y = torch.where(torch.eye(x.size(0), dtype=torch.bool), x, -100)\n",
    "        x = torch.where(torch.eye(x.size(0), dtype=torch.bool), tokenizer.mask_token_id, x)\n",
    "        for _x, _y in zip(torch.split(x, batch_size, 0), torch.split(y, batch_size, 0)):\n",
    "            yield (label, _x, _y)\n",
    "\n",
    "# Dataloader\n",
    "dataloader = batch_tokenize_mask(dataset, tokenizer, batch_size)"
   ]
  },
  {
   "cell_type": "code",
   "execution_count": 6,
   "metadata": {},
   "outputs": [
    {
     "data": {
      "image/png": "[encoded data removed]",
      "text/plain": [
       "<Figure size 640x480 with 1 Axes>"
      ]
     },
     "metadata": {},
     "output_type": "display_data"
    }
   ],
   "source": [
    "# Compute pseudo-perplexity\n",
    "with torch.no_grad(), torch.autocast(device_type=device, dtype=torch.float16, enabled=fp16):\n",
    "    torch.backends.cuda.matmul.allow_tf32 = True\n",
    "    torch.backends.cudnn.allow_tf32 = True\n",
    "    \n",
    "    losses = dict()\n",
    "    loss_fn = torch.nn.CrossEntropyLoss(ignore_index=-100, reduction=\"none\")\n",
    "    for label, x, y in dataloader:\n",
    "        x = x.to(device)\n",
    "        y = y.to(device)\n",
    "        logits = model(x).logits\n",
    "        loss = loss_fn(logits.transpose(1, 2), y).sum(-1).tolist()\n",
    "        losses[label] = losses[label] + loss if label in losses else loss\n",
    "\n",
    "# Save the pseudo-perplexities into a csv\n",
    "with open(output_file, \"w\") as file:\n",
    "    file.write(\"name,pseudo-perplexity\\n\")\n",
    "    for k, v in losses.items():\n",
    "        file.write(f\"{k},{np.exp(np.mean(v))}\\n\")\n",
    "\n",
    "# Plot the distribution of pseudo-perplexities\n",
    "sns.kdeplot([np.exp(np.mean(v)) for v in losses.values()])\n",
    "plt.show()"
   ]
  }
 ],
 "metadata": {
  "kernelspec": {
   "display_name": ".venv",
   "language": "python",
   "name": "python3"
  },
  "language_info": {
   "codemirror_mode": {
    "name": "ipython",
    "version": 3
   },
   "file_extension": ".py",
   "mimetype": "text/x-python",
   "name": "python",
   "nbconvert_exporter": "python",
   "pygments_lexer": "ipython3",
   "version": "3.10.11"
  }
 },
 "nbformat": 4,
 "nbformat_minor": 2
}
